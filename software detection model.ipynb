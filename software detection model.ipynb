{
 "cells": [
  {
   "cell_type": "code",
   "execution_count": 1,
   "id": "popular-transportation",
   "metadata": {},
   "outputs": [],
   "source": [
    "import numpy as np\n",
    "import pandas as  pd\n",
    "import matplotlib.pyplot as plt\n",
    "import seaborn as sns\n",
    "from sklearn.model_selection import train_test_split\n",
    "from sklearn.tree import DecisionTreeClassifier\n",
    "from sklearn.ensemble import RandomForestClassifier\n",
    "import xgboost as xgb"
   ]
  },
  {
   "cell_type": "code",
   "execution_count": 2,
   "id": "moving-douglas",
   "metadata": {},
   "outputs": [],
   "source": [
    "path = r'Y:\\PYTHON COMMON SERVER\\NANDINI\\Gaurav\\TK15488\\CODE\\Datasets\\EBSPM.csv'"
   ]
  },
  {
   "cell_type": "code",
   "execution_count": 3,
   "id": "automatic-burst",
   "metadata": {},
   "outputs": [],
   "source": [
    "df = pd.read_csv(path,encoding= 'unicode_escape')"
   ]
  },
  {
   "cell_type": "code",
   "execution_count": 4,
   "id": "dynamic-destiny",
   "metadata": {},
   "outputs": [
    {
     "data": {
      "text/html": [
       "<div>\n",
       "<style scoped>\n",
       "    .dataframe tbody tr th:only-of-type {\n",
       "        vertical-align: middle;\n",
       "    }\n",
       "\n",
       "    .dataframe tbody tr th {\n",
       "        vertical-align: top;\n",
       "    }\n",
       "\n",
       "    .dataframe thead th {\n",
       "        text-align: right;\n",
       "    }\n",
       "</style>\n",
       "<table border=\"1\" class=\"dataframe\">\n",
       "  <thead>\n",
       "    <tr style=\"text-align: right;\">\n",
       "      <th></th>\n",
       "      <th>Project_ID</th>\n",
       "      <th>Organization</th>\n",
       "      <th>Short_project_description</th>\n",
       "      <th>Year_technical_go_live</th>\n",
       "      <th>Organisation_profile</th>\n",
       "      <th>Business_domain</th>\n",
       "      <th>Development_method</th>\n",
       "      <th>Primary_programming_language</th>\n",
       "      <th>Development_class</th>\n",
       "      <th>Functional_size_FP</th>\n",
       "      <th>...</th>\n",
       "      <th>Package_of_the_shelf</th>\n",
       "      <th>Package_with_customization</th>\n",
       "      <th>Steady_heartbeat</th>\n",
       "      <th>Fixed_experienced_team</th>\n",
       "      <th>Many_team_changes_unexperienced_team</th>\n",
       "      <th>Legacy_application</th>\n",
       "      <th>Technology_driven_project</th>\n",
       "      <th>Rules_and_regulations_driven_project</th>\n",
       "      <th>Business_driven_project</th>\n",
       "      <th>Pilot_or_proof_of_concept</th>\n",
       "    </tr>\n",
       "  </thead>\n",
       "  <tbody>\n",
       "    <tr>\n",
       "      <th>0</th>\n",
       "      <td>411.0</td>\n",
       "      <td>Beltel</td>\n",
       "      <td>T5 Timers - QW from MSP. Small enhancement to ...</td>\n",
       "      <td>2015.0</td>\n",
       "      <td>Telecommunications</td>\n",
       "      <td>Client and Account Management</td>\n",
       "      <td>Plan-driven</td>\n",
       "      <td>NaN</td>\n",
       "      <td>Conversion (&lt;5% new)</td>\n",
       "      <td>35.0</td>\n",
       "      <td>...</td>\n",
       "      <td>0.0</td>\n",
       "      <td>0.0</td>\n",
       "      <td>0.0</td>\n",
       "      <td>0.0</td>\n",
       "      <td>0.0</td>\n",
       "      <td>0.0</td>\n",
       "      <td>0.0</td>\n",
       "      <td>0.0</td>\n",
       "      <td>1.0</td>\n",
       "      <td>0.0</td>\n",
       "    </tr>\n",
       "    <tr>\n",
       "      <th>1</th>\n",
       "      <td>429.0</td>\n",
       "      <td>Beltel</td>\n",
       "      <td>Easy Script (clean up master MSISDN). Small en...</td>\n",
       "      <td>2015.0</td>\n",
       "      <td>Telecommunications</td>\n",
       "      <td>Billing</td>\n",
       "      <td>Plan-driven</td>\n",
       "      <td>NaN</td>\n",
       "      <td>New Development</td>\n",
       "      <td>28.0</td>\n",
       "      <td>...</td>\n",
       "      <td>0.0</td>\n",
       "      <td>0.0</td>\n",
       "      <td>0.0</td>\n",
       "      <td>0.0</td>\n",
       "      <td>0.0</td>\n",
       "      <td>0.0</td>\n",
       "      <td>0.0</td>\n",
       "      <td>0.0</td>\n",
       "      <td>1.0</td>\n",
       "      <td>0.0</td>\n",
       "    </tr>\n",
       "    <tr>\n",
       "      <th>2</th>\n",
       "      <td>430.0</td>\n",
       "      <td>Beltel</td>\n",
       "      <td>Campaign Management Tool (Comviva) WP05. Sub-p...</td>\n",
       "      <td>2015.0</td>\n",
       "      <td>Telecommunications</td>\n",
       "      <td>Client and Account Management</td>\n",
       "      <td>Plan-driven</td>\n",
       "      <td>NaN</td>\n",
       "      <td>Major Enhancement (25-75% new)</td>\n",
       "      <td>50.0</td>\n",
       "      <td>...</td>\n",
       "      <td>0.0</td>\n",
       "      <td>0.0</td>\n",
       "      <td>0.0</td>\n",
       "      <td>0.0</td>\n",
       "      <td>0.0</td>\n",
       "      <td>0.0</td>\n",
       "      <td>0.0</td>\n",
       "      <td>0.0</td>\n",
       "      <td>1.0</td>\n",
       "      <td>0.0</td>\n",
       "    </tr>\n",
       "    <tr>\n",
       "      <th>3</th>\n",
       "      <td>403.0</td>\n",
       "      <td>Beltel</td>\n",
       "      <td>Campaign Management - Change Request 2. Sub-pr...</td>\n",
       "      <td>2015.0</td>\n",
       "      <td>Telecommunications</td>\n",
       "      <td>Data Warehouse &amp; BI</td>\n",
       "      <td>Scrum</td>\n",
       "      <td>NaN</td>\n",
       "      <td>Conversion (&lt;5% new)</td>\n",
       "      <td>177.0</td>\n",
       "      <td>...</td>\n",
       "      <td>0.0</td>\n",
       "      <td>0.0</td>\n",
       "      <td>0.0</td>\n",
       "      <td>0.0</td>\n",
       "      <td>0.0</td>\n",
       "      <td>0.0</td>\n",
       "      <td>0.0</td>\n",
       "      <td>0.0</td>\n",
       "      <td>1.0</td>\n",
       "      <td>0.0</td>\n",
       "    </tr>\n",
       "    <tr>\n",
       "      <th>4</th>\n",
       "      <td>434.0</td>\n",
       "      <td>Beltel</td>\n",
       "      <td>Integrate payment by Credit-card Aliases. Smal...</td>\n",
       "      <td>2015.0</td>\n",
       "      <td>Telecommunications</td>\n",
       "      <td>Internet &amp; Mobile</td>\n",
       "      <td>Plan-driven</td>\n",
       "      <td>NaN</td>\n",
       "      <td>Major Enhancement (25-75% new)</td>\n",
       "      <td>12.0</td>\n",
       "      <td>...</td>\n",
       "      <td>0.0</td>\n",
       "      <td>0.0</td>\n",
       "      <td>0.0</td>\n",
       "      <td>0.0</td>\n",
       "      <td>0.0</td>\n",
       "      <td>0.0</td>\n",
       "      <td>0.0</td>\n",
       "      <td>0.0</td>\n",
       "      <td>1.0</td>\n",
       "      <td>0.0</td>\n",
       "    </tr>\n",
       "  </tbody>\n",
       "</table>\n",
       "<p>5 rows × 37 columns</p>\n",
       "</div>"
      ],
      "text/plain": [
       "   Project_ID Organization                          Short_project_description  \\\n",
       "0       411.0       Beltel  T5 Timers - QW from MSP. Small enhancement to ...   \n",
       "1       429.0       Beltel  Easy Script (clean up master MSISDN). Small en...   \n",
       "2       430.0       Beltel  Campaign Management Tool (Comviva) WP05. Sub-p...   \n",
       "3       403.0       Beltel  Campaign Management - Change Request 2. Sub-pr...   \n",
       "4       434.0       Beltel  Integrate payment by Credit-card Aliases. Smal...   \n",
       "\n",
       "   Year_technical_go_live Organisation_profile                Business_domain  \\\n",
       "0                  2015.0   Telecommunications  Client and Account Management   \n",
       "1                  2015.0   Telecommunications                        Billing   \n",
       "2                  2015.0   Telecommunications  Client and Account Management   \n",
       "3                  2015.0   Telecommunications            Data Warehouse & BI   \n",
       "4                  2015.0   Telecommunications              Internet & Mobile   \n",
       "\n",
       "  Development_method Primary_programming_language  \\\n",
       "0        Plan-driven                          NaN   \n",
       "1        Plan-driven                          NaN   \n",
       "2        Plan-driven                          NaN   \n",
       "3              Scrum                          NaN   \n",
       "4        Plan-driven                          NaN   \n",
       "\n",
       "                Development_class  Functional_size_FP  ...  \\\n",
       "0            Conversion (<5% new)                35.0  ...   \n",
       "1                 New Development                28.0  ...   \n",
       "2  Major Enhancement (25-75% new)                50.0  ...   \n",
       "3            Conversion (<5% new)               177.0  ...   \n",
       "4  Major Enhancement (25-75% new)                12.0  ...   \n",
       "\n",
       "   Package_of_the_shelf Package_with_customization Steady_heartbeat  \\\n",
       "0                   0.0                        0.0              0.0   \n",
       "1                   0.0                        0.0              0.0   \n",
       "2                   0.0                        0.0              0.0   \n",
       "3                   0.0                        0.0              0.0   \n",
       "4                   0.0                        0.0              0.0   \n",
       "\n",
       "  Fixed_experienced_team  Many_team_changes_unexperienced_team  \\\n",
       "0                    0.0                                   0.0   \n",
       "1                    0.0                                   0.0   \n",
       "2                    0.0                                   0.0   \n",
       "3                    0.0                                   0.0   \n",
       "4                    0.0                                   0.0   \n",
       "\n",
       "  Legacy_application Technology_driven_project  \\\n",
       "0                0.0                       0.0   \n",
       "1                0.0                       0.0   \n",
       "2                0.0                       0.0   \n",
       "3                0.0                       0.0   \n",
       "4                0.0                       0.0   \n",
       "\n",
       "  Rules_and_regulations_driven_project  Business_driven_project  \\\n",
       "0                                  0.0                      1.0   \n",
       "1                                  0.0                      1.0   \n",
       "2                                  0.0                      1.0   \n",
       "3                                  0.0                      1.0   \n",
       "4                                  0.0                      1.0   \n",
       "\n",
       "   Pilot_or_proof_of_concept  \n",
       "0                        0.0  \n",
       "1                        0.0  \n",
       "2                        0.0  \n",
       "3                        0.0  \n",
       "4                        0.0  \n",
       "\n",
       "[5 rows x 37 columns]"
      ]
     },
     "execution_count": 4,
     "metadata": {},
     "output_type": "execute_result"
    }
   ],
   "source": [
    "df.head()"
   ]
  },
  {
   "cell_type": "code",
   "execution_count": 5,
   "id": "material-profession",
   "metadata": {},
   "outputs": [
    {
     "data": {
      "text/html": [
       "<div>\n",
       "<style scoped>\n",
       "    .dataframe tbody tr th:only-of-type {\n",
       "        vertical-align: middle;\n",
       "    }\n",
       "\n",
       "    .dataframe tbody tr th {\n",
       "        vertical-align: top;\n",
       "    }\n",
       "\n",
       "    .dataframe thead th {\n",
       "        text-align: right;\n",
       "    }\n",
       "</style>\n",
       "<table border=\"1\" class=\"dataframe\">\n",
       "  <thead>\n",
       "    <tr style=\"text-align: right;\">\n",
       "      <th></th>\n",
       "      <th>Project_ID</th>\n",
       "      <th>Organization</th>\n",
       "      <th>Short_project_description</th>\n",
       "      <th>Year_technical_go_live</th>\n",
       "      <th>Organisation_profile</th>\n",
       "      <th>Business_domain</th>\n",
       "      <th>Development_method</th>\n",
       "      <th>Primary_programming_language</th>\n",
       "      <th>Development_class</th>\n",
       "      <th>Functional_size_FP</th>\n",
       "      <th>...</th>\n",
       "      <th>Package_of_the_shelf</th>\n",
       "      <th>Package_with_customization</th>\n",
       "      <th>Steady_heartbeat</th>\n",
       "      <th>Fixed_experienced_team</th>\n",
       "      <th>Many_team_changes_unexperienced_team</th>\n",
       "      <th>Legacy_application</th>\n",
       "      <th>Technology_driven_project</th>\n",
       "      <th>Rules_and_regulations_driven_project</th>\n",
       "      <th>Business_driven_project</th>\n",
       "      <th>Pilot_or_proof_of_concept</th>\n",
       "    </tr>\n",
       "  </thead>\n",
       "  <tbody>\n",
       "    <tr>\n",
       "      <th>488</th>\n",
       "      <td>3.0</td>\n",
       "      <td>Bank B</td>\n",
       "      <td>Maintenance release on one application</td>\n",
       "      <td>2009.0</td>\n",
       "      <td>Banking</td>\n",
       "      <td>Payments</td>\n",
       "      <td>Plan-driven</td>\n",
       "      <td>JAVA</td>\n",
       "      <td>New Development</td>\n",
       "      <td>128.0</td>\n",
       "      <td>...</td>\n",
       "      <td>0.0</td>\n",
       "      <td>0.0</td>\n",
       "      <td>0.0</td>\n",
       "      <td>0.0</td>\n",
       "      <td>0.0</td>\n",
       "      <td>0.0</td>\n",
       "      <td>0.0</td>\n",
       "      <td>0.0</td>\n",
       "      <td>0.0</td>\n",
       "      <td>0.0</td>\n",
       "    </tr>\n",
       "    <tr>\n",
       "      <th>489</th>\n",
       "      <td>7.0</td>\n",
       "      <td>Bank B</td>\n",
       "      <td>RIBB release 3.8</td>\n",
       "      <td>2009.0</td>\n",
       "      <td>Banking</td>\n",
       "      <td>Savings &amp; Loans</td>\n",
       "      <td>Plan-driven</td>\n",
       "      <td>JAVA</td>\n",
       "      <td>Minor Enhancement (5-25% new)</td>\n",
       "      <td>107.0</td>\n",
       "      <td>...</td>\n",
       "      <td>0.0</td>\n",
       "      <td>0.0</td>\n",
       "      <td>0.0</td>\n",
       "      <td>0.0</td>\n",
       "      <td>0.0</td>\n",
       "      <td>0.0</td>\n",
       "      <td>0.0</td>\n",
       "      <td>0.0</td>\n",
       "      <td>0.0</td>\n",
       "      <td>0.0</td>\n",
       "    </tr>\n",
       "    <tr>\n",
       "      <th>490</th>\n",
       "      <td>8.0</td>\n",
       "      <td>Bank B</td>\n",
       "      <td>Realisation Anonymous Release  3.0</td>\n",
       "      <td>2009.0</td>\n",
       "      <td>Banking</td>\n",
       "      <td>Client and Account Management</td>\n",
       "      <td>Plan-driven</td>\n",
       "      <td>.NET</td>\n",
       "      <td>Major Enhancement (25-75% new)</td>\n",
       "      <td>56.0</td>\n",
       "      <td>...</td>\n",
       "      <td>0.0</td>\n",
       "      <td>0.0</td>\n",
       "      <td>0.0</td>\n",
       "      <td>0.0</td>\n",
       "      <td>0.0</td>\n",
       "      <td>0.0</td>\n",
       "      <td>0.0</td>\n",
       "      <td>0.0</td>\n",
       "      <td>0.0</td>\n",
       "      <td>0.0</td>\n",
       "    </tr>\n",
       "    <tr>\n",
       "      <th>491</th>\n",
       "      <td>4.0</td>\n",
       "      <td>Bank B</td>\n",
       "      <td>Maintenance release on one application</td>\n",
       "      <td>2008.0</td>\n",
       "      <td>Banking</td>\n",
       "      <td>Savings &amp; Loans</td>\n",
       "      <td>Plan-driven</td>\n",
       "      <td>Pakket</td>\n",
       "      <td>Major Enhancement (25-75% new)</td>\n",
       "      <td>131.0</td>\n",
       "      <td>...</td>\n",
       "      <td>0.0</td>\n",
       "      <td>0.0</td>\n",
       "      <td>0.0</td>\n",
       "      <td>0.0</td>\n",
       "      <td>0.0</td>\n",
       "      <td>0.0</td>\n",
       "      <td>0.0</td>\n",
       "      <td>0.0</td>\n",
       "      <td>0.0</td>\n",
       "      <td>0.0</td>\n",
       "    </tr>\n",
       "    <tr>\n",
       "      <th>492</th>\n",
       "      <td>NaN</td>\n",
       "      <td>NaN</td>\n",
       "      <td>NaN</td>\n",
       "      <td>NaN</td>\n",
       "      <td>NaN</td>\n",
       "      <td>NaN</td>\n",
       "      <td>NaN</td>\n",
       "      <td>NaN</td>\n",
       "      <td>NaN</td>\n",
       "      <td>NaN</td>\n",
       "      <td>...</td>\n",
       "      <td>NaN</td>\n",
       "      <td>NaN</td>\n",
       "      <td>NaN</td>\n",
       "      <td>NaN</td>\n",
       "      <td>NaN</td>\n",
       "      <td>NaN</td>\n",
       "      <td>NaN</td>\n",
       "      <td>NaN</td>\n",
       "      <td>NaN</td>\n",
       "      <td>NaN</td>\n",
       "    </tr>\n",
       "  </tbody>\n",
       "</table>\n",
       "<p>5 rows × 37 columns</p>\n",
       "</div>"
      ],
      "text/plain": [
       "     Project_ID Organization               Short_project_description  \\\n",
       "488         3.0       Bank B  Maintenance release on one application   \n",
       "489         7.0       Bank B                        RIBB release 3.8   \n",
       "490         8.0       Bank B      Realisation Anonymous Release  3.0   \n",
       "491         4.0       Bank B  Maintenance release on one application   \n",
       "492         NaN          NaN                                     NaN   \n",
       "\n",
       "     Year_technical_go_live Organisation_profile  \\\n",
       "488                  2009.0              Banking   \n",
       "489                  2009.0              Banking   \n",
       "490                  2009.0              Banking   \n",
       "491                  2008.0              Banking   \n",
       "492                     NaN                  NaN   \n",
       "\n",
       "                   Business_domain Development_method  \\\n",
       "488                       Payments        Plan-driven   \n",
       "489                Savings & Loans        Plan-driven   \n",
       "490  Client and Account Management        Plan-driven   \n",
       "491                Savings & Loans        Plan-driven   \n",
       "492                            NaN                NaN   \n",
       "\n",
       "    Primary_programming_language               Development_class  \\\n",
       "488                         JAVA                 New Development   \n",
       "489                         JAVA   Minor Enhancement (5-25% new)   \n",
       "490                         .NET  Major Enhancement (25-75% new)   \n",
       "491                       Pakket  Major Enhancement (25-75% new)   \n",
       "492                          NaN                             NaN   \n",
       "\n",
       "     Functional_size_FP  ...  Package_of_the_shelf Package_with_customization  \\\n",
       "488               128.0  ...                   0.0                        0.0   \n",
       "489               107.0  ...                   0.0                        0.0   \n",
       "490                56.0  ...                   0.0                        0.0   \n",
       "491               131.0  ...                   0.0                        0.0   \n",
       "492                 NaN  ...                   NaN                        NaN   \n",
       "\n",
       "    Steady_heartbeat Fixed_experienced_team  \\\n",
       "488              0.0                    0.0   \n",
       "489              0.0                    0.0   \n",
       "490              0.0                    0.0   \n",
       "491              0.0                    0.0   \n",
       "492              NaN                    NaN   \n",
       "\n",
       "     Many_team_changes_unexperienced_team Legacy_application  \\\n",
       "488                                   0.0                0.0   \n",
       "489                                   0.0                0.0   \n",
       "490                                   0.0                0.0   \n",
       "491                                   0.0                0.0   \n",
       "492                                   NaN                NaN   \n",
       "\n",
       "    Technology_driven_project Rules_and_regulations_driven_project  \\\n",
       "488                       0.0                                  0.0   \n",
       "489                       0.0                                  0.0   \n",
       "490                       0.0                                  0.0   \n",
       "491                       0.0                                  0.0   \n",
       "492                       NaN                                  NaN   \n",
       "\n",
       "     Business_driven_project  Pilot_or_proof_of_concept  \n",
       "488                      0.0                        0.0  \n",
       "489                      0.0                        0.0  \n",
       "490                      0.0                        0.0  \n",
       "491                      0.0                        0.0  \n",
       "492                      NaN                        NaN  \n",
       "\n",
       "[5 rows x 37 columns]"
      ]
     },
     "execution_count": 5,
     "metadata": {},
     "output_type": "execute_result"
    }
   ],
   "source": [
    "df.tail()"
   ]
  },
  {
   "cell_type": "code",
   "execution_count": 6,
   "id": "willing-pathology",
   "metadata": {},
   "outputs": [
    {
     "data": {
      "text/plain": [
       "(493, 37)"
      ]
     },
     "execution_count": 6,
     "metadata": {},
     "output_type": "execute_result"
    }
   ],
   "source": [
    "df.shape"
   ]
  },
  {
   "cell_type": "code",
   "execution_count": 7,
   "id": "governmental-sword",
   "metadata": {},
   "outputs": [
    {
     "data": {
      "text/plain": [
       "Project_ID                                1\n",
       "Organization                              1\n",
       "Short_project_description                 1\n",
       "Year_technical_go_live                    1\n",
       "Organisation_profile                      1\n",
       "Business_domain                           1\n",
       "Development_method                        1\n",
       "Primary_programming_language            143\n",
       "Development_class                         1\n",
       "Functional_size_FP                        1\n",
       "Actual_duration_months                    1\n",
       "Actual_cost_EUR                           1\n",
       "Actual_effort_hours                     471\n",
       "Defects_process                         223\n",
       "Defects_first_month                     433\n",
       "Stakeholder_satisfaction_process        472\n",
       "Stakeholder Satisfaction - Product      472\n",
       "Perceived_value_overall                 473\n",
       "Release_based_working                     1\n",
       "Once_only_project                         1\n",
       "Multi_application_release                 1\n",
       "Phased_project                            1\n",
       "Dependencies_with_other_applications      1\n",
       "Single_application                        1\n",
       "Migration_project                         1\n",
       "Problems_with_external_supplier           1\n",
       "Security_related_project                  1\n",
       "Package_of_the_shelf                      1\n",
       "Package_with_customization                1\n",
       "Steady_heartbeat                          1\n",
       "Fixed_experienced_team                    1\n",
       "Many_team_changes_unexperienced_team      1\n",
       "Legacy_application                        1\n",
       "Technology_driven_project                 1\n",
       "Rules_and_regulations_driven_project      1\n",
       "Business_driven_project                   1\n",
       "Pilot_or_proof_of_concept                 1\n",
       "dtype: int64"
      ]
     },
     "execution_count": 7,
     "metadata": {},
     "output_type": "execute_result"
    }
   ],
   "source": [
    "df.isnull().sum()"
   ]
  },
  {
   "cell_type": "code",
   "execution_count": 8,
   "id": "anonymous-blink",
   "metadata": {},
   "outputs": [],
   "source": [
    "df.drop(['Perceived_value_overall','Stakeholder Satisfaction - Product','Stakeholder_satisfaction_process','Defects_first_month','Defects_process','Actual_effort_hours','Primary_programming_language'],axis = 1,inplace =True)"
   ]
  },
  {
   "cell_type": "code",
   "execution_count": 9,
   "id": "given-vinyl",
   "metadata": {},
   "outputs": [
    {
     "data": {
      "text/plain": [
       "Project_ID                              1\n",
       "Organization                            1\n",
       "Short_project_description               1\n",
       "Year_technical_go_live                  1\n",
       "Organisation_profile                    1\n",
       "Business_domain                         1\n",
       "Development_method                      1\n",
       "Development_class                       1\n",
       "Functional_size_FP                      1\n",
       "Actual_duration_months                  1\n",
       "Actual_cost_EUR                         1\n",
       "Release_based_working                   1\n",
       "Once_only_project                       1\n",
       "Multi_application_release               1\n",
       "Phased_project                          1\n",
       "Dependencies_with_other_applications    1\n",
       "Single_application                      1\n",
       "Migration_project                       1\n",
       "Problems_with_external_supplier         1\n",
       "Security_related_project                1\n",
       "Package_of_the_shelf                    1\n",
       "Package_with_customization              1\n",
       "Steady_heartbeat                        1\n",
       "Fixed_experienced_team                  1\n",
       "Many_team_changes_unexperienced_team    1\n",
       "Legacy_application                      1\n",
       "Technology_driven_project               1\n",
       "Rules_and_regulations_driven_project    1\n",
       "Business_driven_project                 1\n",
       "Pilot_or_proof_of_concept               1\n",
       "dtype: int64"
      ]
     },
     "execution_count": 9,
     "metadata": {},
     "output_type": "execute_result"
    }
   ],
   "source": [
    "df.isnull().sum()"
   ]
  },
  {
   "cell_type": "code",
   "execution_count": 10,
   "id": "gentle-problem",
   "metadata": {},
   "outputs": [],
   "source": [
    "df.dropna(how = 'any',inplace = True)"
   ]
  },
  {
   "cell_type": "code",
   "execution_count": 11,
   "id": "coupled-messaging",
   "metadata": {},
   "outputs": [
    {
     "data": {
      "text/plain": [
       "0"
      ]
     },
     "execution_count": 11,
     "metadata": {},
     "output_type": "execute_result"
    }
   ],
   "source": [
    "df.isnull().any().sum()"
   ]
  },
  {
   "cell_type": "code",
   "execution_count": 12,
   "id": "sound-ivory",
   "metadata": {},
   "outputs": [
    {
     "data": {
      "text/html": [
       "<div>\n",
       "<style scoped>\n",
       "    .dataframe tbody tr th:only-of-type {\n",
       "        vertical-align: middle;\n",
       "    }\n",
       "\n",
       "    .dataframe tbody tr th {\n",
       "        vertical-align: top;\n",
       "    }\n",
       "\n",
       "    .dataframe thead th {\n",
       "        text-align: right;\n",
       "    }\n",
       "</style>\n",
       "<table border=\"1\" class=\"dataframe\">\n",
       "  <thead>\n",
       "    <tr style=\"text-align: right;\">\n",
       "      <th></th>\n",
       "      <th>Project_ID</th>\n",
       "      <th>Organization</th>\n",
       "      <th>Short_project_description</th>\n",
       "      <th>Year_technical_go_live</th>\n",
       "      <th>Organisation_profile</th>\n",
       "      <th>Business_domain</th>\n",
       "      <th>Development_method</th>\n",
       "      <th>Development_class</th>\n",
       "      <th>Functional_size_FP</th>\n",
       "      <th>Actual_duration_months</th>\n",
       "      <th>...</th>\n",
       "      <th>Package_of_the_shelf</th>\n",
       "      <th>Package_with_customization</th>\n",
       "      <th>Steady_heartbeat</th>\n",
       "      <th>Fixed_experienced_team</th>\n",
       "      <th>Many_team_changes_unexperienced_team</th>\n",
       "      <th>Legacy_application</th>\n",
       "      <th>Technology_driven_project</th>\n",
       "      <th>Rules_and_regulations_driven_project</th>\n",
       "      <th>Business_driven_project</th>\n",
       "      <th>Pilot_or_proof_of_concept</th>\n",
       "    </tr>\n",
       "  </thead>\n",
       "  <tbody>\n",
       "    <tr>\n",
       "      <th>0</th>\n",
       "      <td>411.0</td>\n",
       "      <td>Beltel</td>\n",
       "      <td>T5 Timers - QW from MSP. Small enhancement to ...</td>\n",
       "      <td>2015.0</td>\n",
       "      <td>Telecommunications</td>\n",
       "      <td>Client and Account Management</td>\n",
       "      <td>Plan-driven</td>\n",
       "      <td>Conversion (&lt;5% new)</td>\n",
       "      <td>35.0</td>\n",
       "      <td>19.03</td>\n",
       "      <td>...</td>\n",
       "      <td>0.0</td>\n",
       "      <td>0.0</td>\n",
       "      <td>0.0</td>\n",
       "      <td>0.0</td>\n",
       "      <td>0.0</td>\n",
       "      <td>0.0</td>\n",
       "      <td>0.0</td>\n",
       "      <td>0.0</td>\n",
       "      <td>1.0</td>\n",
       "      <td>0.0</td>\n",
       "    </tr>\n",
       "    <tr>\n",
       "      <th>1</th>\n",
       "      <td>429.0</td>\n",
       "      <td>Beltel</td>\n",
       "      <td>Easy Script (clean up master MSISDN). Small en...</td>\n",
       "      <td>2015.0</td>\n",
       "      <td>Telecommunications</td>\n",
       "      <td>Billing</td>\n",
       "      <td>Plan-driven</td>\n",
       "      <td>New Development</td>\n",
       "      <td>28.0</td>\n",
       "      <td>10.29</td>\n",
       "      <td>...</td>\n",
       "      <td>0.0</td>\n",
       "      <td>0.0</td>\n",
       "      <td>0.0</td>\n",
       "      <td>0.0</td>\n",
       "      <td>0.0</td>\n",
       "      <td>0.0</td>\n",
       "      <td>0.0</td>\n",
       "      <td>0.0</td>\n",
       "      <td>1.0</td>\n",
       "      <td>0.0</td>\n",
       "    </tr>\n",
       "    <tr>\n",
       "      <th>2</th>\n",
       "      <td>430.0</td>\n",
       "      <td>Beltel</td>\n",
       "      <td>Campaign Management Tool (Comviva) WP05. Sub-p...</td>\n",
       "      <td>2015.0</td>\n",
       "      <td>Telecommunications</td>\n",
       "      <td>Client and Account Management</td>\n",
       "      <td>Plan-driven</td>\n",
       "      <td>Major Enhancement (25-75% new)</td>\n",
       "      <td>50.0</td>\n",
       "      <td>11.90</td>\n",
       "      <td>...</td>\n",
       "      <td>0.0</td>\n",
       "      <td>0.0</td>\n",
       "      <td>0.0</td>\n",
       "      <td>0.0</td>\n",
       "      <td>0.0</td>\n",
       "      <td>0.0</td>\n",
       "      <td>0.0</td>\n",
       "      <td>0.0</td>\n",
       "      <td>1.0</td>\n",
       "      <td>0.0</td>\n",
       "    </tr>\n",
       "    <tr>\n",
       "      <th>3</th>\n",
       "      <td>403.0</td>\n",
       "      <td>Beltel</td>\n",
       "      <td>Campaign Management - Change Request 2. Sub-pr...</td>\n",
       "      <td>2015.0</td>\n",
       "      <td>Telecommunications</td>\n",
       "      <td>Data Warehouse &amp; BI</td>\n",
       "      <td>Scrum</td>\n",
       "      <td>Conversion (&lt;5% new)</td>\n",
       "      <td>177.0</td>\n",
       "      <td>9.69</td>\n",
       "      <td>...</td>\n",
       "      <td>0.0</td>\n",
       "      <td>0.0</td>\n",
       "      <td>0.0</td>\n",
       "      <td>0.0</td>\n",
       "      <td>0.0</td>\n",
       "      <td>0.0</td>\n",
       "      <td>0.0</td>\n",
       "      <td>0.0</td>\n",
       "      <td>1.0</td>\n",
       "      <td>0.0</td>\n",
       "    </tr>\n",
       "    <tr>\n",
       "      <th>4</th>\n",
       "      <td>434.0</td>\n",
       "      <td>Beltel</td>\n",
       "      <td>Integrate payment by Credit-card Aliases. Smal...</td>\n",
       "      <td>2015.0</td>\n",
       "      <td>Telecommunications</td>\n",
       "      <td>Internet &amp; Mobile</td>\n",
       "      <td>Plan-driven</td>\n",
       "      <td>Major Enhancement (25-75% new)</td>\n",
       "      <td>12.0</td>\n",
       "      <td>10.29</td>\n",
       "      <td>...</td>\n",
       "      <td>0.0</td>\n",
       "      <td>0.0</td>\n",
       "      <td>0.0</td>\n",
       "      <td>0.0</td>\n",
       "      <td>0.0</td>\n",
       "      <td>0.0</td>\n",
       "      <td>0.0</td>\n",
       "      <td>0.0</td>\n",
       "      <td>1.0</td>\n",
       "      <td>0.0</td>\n",
       "    </tr>\n",
       "  </tbody>\n",
       "</table>\n",
       "<p>5 rows × 30 columns</p>\n",
       "</div>"
      ],
      "text/plain": [
       "   Project_ID Organization                          Short_project_description  \\\n",
       "0       411.0       Beltel  T5 Timers - QW from MSP. Small enhancement to ...   \n",
       "1       429.0       Beltel  Easy Script (clean up master MSISDN). Small en...   \n",
       "2       430.0       Beltel  Campaign Management Tool (Comviva) WP05. Sub-p...   \n",
       "3       403.0       Beltel  Campaign Management - Change Request 2. Sub-pr...   \n",
       "4       434.0       Beltel  Integrate payment by Credit-card Aliases. Smal...   \n",
       "\n",
       "   Year_technical_go_live Organisation_profile                Business_domain  \\\n",
       "0                  2015.0   Telecommunications  Client and Account Management   \n",
       "1                  2015.0   Telecommunications                        Billing   \n",
       "2                  2015.0   Telecommunications  Client and Account Management   \n",
       "3                  2015.0   Telecommunications            Data Warehouse & BI   \n",
       "4                  2015.0   Telecommunications              Internet & Mobile   \n",
       "\n",
       "  Development_method               Development_class  Functional_size_FP  \\\n",
       "0        Plan-driven            Conversion (<5% new)                35.0   \n",
       "1        Plan-driven                 New Development                28.0   \n",
       "2        Plan-driven  Major Enhancement (25-75% new)                50.0   \n",
       "3              Scrum            Conversion (<5% new)               177.0   \n",
       "4        Plan-driven  Major Enhancement (25-75% new)                12.0   \n",
       "\n",
       "   Actual_duration_months  ... Package_of_the_shelf  \\\n",
       "0                   19.03  ...                  0.0   \n",
       "1                   10.29  ...                  0.0   \n",
       "2                   11.90  ...                  0.0   \n",
       "3                    9.69  ...                  0.0   \n",
       "4                   10.29  ...                  0.0   \n",
       "\n",
       "   Package_with_customization  Steady_heartbeat  Fixed_experienced_team  \\\n",
       "0                         0.0               0.0                     0.0   \n",
       "1                         0.0               0.0                     0.0   \n",
       "2                         0.0               0.0                     0.0   \n",
       "3                         0.0               0.0                     0.0   \n",
       "4                         0.0               0.0                     0.0   \n",
       "\n",
       "   Many_team_changes_unexperienced_team  Legacy_application  \\\n",
       "0                                   0.0                 0.0   \n",
       "1                                   0.0                 0.0   \n",
       "2                                   0.0                 0.0   \n",
       "3                                   0.0                 0.0   \n",
       "4                                   0.0                 0.0   \n",
       "\n",
       "   Technology_driven_project  Rules_and_regulations_driven_project  \\\n",
       "0                        0.0                                   0.0   \n",
       "1                        0.0                                   0.0   \n",
       "2                        0.0                                   0.0   \n",
       "3                        0.0                                   0.0   \n",
       "4                        0.0                                   0.0   \n",
       "\n",
       "   Business_driven_project  Pilot_or_proof_of_concept  \n",
       "0                      1.0                        0.0  \n",
       "1                      1.0                        0.0  \n",
       "2                      1.0                        0.0  \n",
       "3                      1.0                        0.0  \n",
       "4                      1.0                        0.0  \n",
       "\n",
       "[5 rows x 30 columns]"
      ]
     },
     "execution_count": 12,
     "metadata": {},
     "output_type": "execute_result"
    }
   ],
   "source": [
    "df.head()"
   ]
  },
  {
   "cell_type": "code",
   "execution_count": 13,
   "id": "affecting-smoke",
   "metadata": {},
   "outputs": [
    {
     "data": {
      "text/html": [
       "<div>\n",
       "<style scoped>\n",
       "    .dataframe tbody tr th:only-of-type {\n",
       "        vertical-align: middle;\n",
       "    }\n",
       "\n",
       "    .dataframe tbody tr th {\n",
       "        vertical-align: top;\n",
       "    }\n",
       "\n",
       "    .dataframe thead th {\n",
       "        text-align: right;\n",
       "    }\n",
       "</style>\n",
       "<table border=\"1\" class=\"dataframe\">\n",
       "  <thead>\n",
       "    <tr style=\"text-align: right;\">\n",
       "      <th></th>\n",
       "      <th>Project_ID</th>\n",
       "      <th>Organization</th>\n",
       "      <th>Short_project_description</th>\n",
       "      <th>Year_technical_go_live</th>\n",
       "      <th>Organisation_profile</th>\n",
       "      <th>Business_domain</th>\n",
       "      <th>Development_method</th>\n",
       "      <th>Development_class</th>\n",
       "      <th>Functional_size_FP</th>\n",
       "      <th>Actual_duration_months</th>\n",
       "      <th>...</th>\n",
       "      <th>Package_of_the_shelf</th>\n",
       "      <th>Package_with_customization</th>\n",
       "      <th>Steady_heartbeat</th>\n",
       "      <th>Fixed_experienced_team</th>\n",
       "      <th>Many_team_changes_unexperienced_team</th>\n",
       "      <th>Legacy_application</th>\n",
       "      <th>Technology_driven_project</th>\n",
       "      <th>Rules_and_regulations_driven_project</th>\n",
       "      <th>Business_driven_project</th>\n",
       "      <th>Pilot_or_proof_of_concept</th>\n",
       "    </tr>\n",
       "  </thead>\n",
       "  <tbody>\n",
       "    <tr>\n",
       "      <th>487</th>\n",
       "      <td>1.0</td>\n",
       "      <td>Bank B</td>\n",
       "      <td>Small maintenance release</td>\n",
       "      <td>2009.0</td>\n",
       "      <td>Banking</td>\n",
       "      <td>Payments</td>\n",
       "      <td>Plan-driven</td>\n",
       "      <td>New Development</td>\n",
       "      <td>47.0</td>\n",
       "      <td>4.90</td>\n",
       "      <td>...</td>\n",
       "      <td>0.0</td>\n",
       "      <td>0.0</td>\n",
       "      <td>0.0</td>\n",
       "      <td>0.0</td>\n",
       "      <td>0.0</td>\n",
       "      <td>0.0</td>\n",
       "      <td>0.0</td>\n",
       "      <td>0.0</td>\n",
       "      <td>0.0</td>\n",
       "      <td>0.0</td>\n",
       "    </tr>\n",
       "    <tr>\n",
       "      <th>488</th>\n",
       "      <td>3.0</td>\n",
       "      <td>Bank B</td>\n",
       "      <td>Maintenance release on one application</td>\n",
       "      <td>2009.0</td>\n",
       "      <td>Banking</td>\n",
       "      <td>Payments</td>\n",
       "      <td>Plan-driven</td>\n",
       "      <td>New Development</td>\n",
       "      <td>128.0</td>\n",
       "      <td>7.48</td>\n",
       "      <td>...</td>\n",
       "      <td>0.0</td>\n",
       "      <td>0.0</td>\n",
       "      <td>0.0</td>\n",
       "      <td>0.0</td>\n",
       "      <td>0.0</td>\n",
       "      <td>0.0</td>\n",
       "      <td>0.0</td>\n",
       "      <td>0.0</td>\n",
       "      <td>0.0</td>\n",
       "      <td>0.0</td>\n",
       "    </tr>\n",
       "    <tr>\n",
       "      <th>489</th>\n",
       "      <td>7.0</td>\n",
       "      <td>Bank B</td>\n",
       "      <td>RIBB release 3.8</td>\n",
       "      <td>2009.0</td>\n",
       "      <td>Banking</td>\n",
       "      <td>Savings &amp; Loans</td>\n",
       "      <td>Plan-driven</td>\n",
       "      <td>Minor Enhancement (5-25% new)</td>\n",
       "      <td>107.0</td>\n",
       "      <td>6.55</td>\n",
       "      <td>...</td>\n",
       "      <td>0.0</td>\n",
       "      <td>0.0</td>\n",
       "      <td>0.0</td>\n",
       "      <td>0.0</td>\n",
       "      <td>0.0</td>\n",
       "      <td>0.0</td>\n",
       "      <td>0.0</td>\n",
       "      <td>0.0</td>\n",
       "      <td>0.0</td>\n",
       "      <td>0.0</td>\n",
       "    </tr>\n",
       "    <tr>\n",
       "      <th>490</th>\n",
       "      <td>8.0</td>\n",
       "      <td>Bank B</td>\n",
       "      <td>Realisation Anonymous Release  3.0</td>\n",
       "      <td>2009.0</td>\n",
       "      <td>Banking</td>\n",
       "      <td>Client and Account Management</td>\n",
       "      <td>Plan-driven</td>\n",
       "      <td>Major Enhancement (25-75% new)</td>\n",
       "      <td>56.0</td>\n",
       "      <td>3.58</td>\n",
       "      <td>...</td>\n",
       "      <td>0.0</td>\n",
       "      <td>0.0</td>\n",
       "      <td>0.0</td>\n",
       "      <td>0.0</td>\n",
       "      <td>0.0</td>\n",
       "      <td>0.0</td>\n",
       "      <td>0.0</td>\n",
       "      <td>0.0</td>\n",
       "      <td>0.0</td>\n",
       "      <td>0.0</td>\n",
       "    </tr>\n",
       "    <tr>\n",
       "      <th>491</th>\n",
       "      <td>4.0</td>\n",
       "      <td>Bank B</td>\n",
       "      <td>Maintenance release on one application</td>\n",
       "      <td>2008.0</td>\n",
       "      <td>Banking</td>\n",
       "      <td>Savings &amp; Loans</td>\n",
       "      <td>Plan-driven</td>\n",
       "      <td>Major Enhancement (25-75% new)</td>\n",
       "      <td>131.0</td>\n",
       "      <td>4.38</td>\n",
       "      <td>...</td>\n",
       "      <td>0.0</td>\n",
       "      <td>0.0</td>\n",
       "      <td>0.0</td>\n",
       "      <td>0.0</td>\n",
       "      <td>0.0</td>\n",
       "      <td>0.0</td>\n",
       "      <td>0.0</td>\n",
       "      <td>0.0</td>\n",
       "      <td>0.0</td>\n",
       "      <td>0.0</td>\n",
       "    </tr>\n",
       "  </tbody>\n",
       "</table>\n",
       "<p>5 rows × 30 columns</p>\n",
       "</div>"
      ],
      "text/plain": [
       "     Project_ID Organization               Short_project_description  \\\n",
       "487         1.0       Bank B               Small maintenance release   \n",
       "488         3.0       Bank B  Maintenance release on one application   \n",
       "489         7.0       Bank B                        RIBB release 3.8   \n",
       "490         8.0       Bank B      Realisation Anonymous Release  3.0   \n",
       "491         4.0       Bank B  Maintenance release on one application   \n",
       "\n",
       "     Year_technical_go_live Organisation_profile  \\\n",
       "487                  2009.0              Banking   \n",
       "488                  2009.0              Banking   \n",
       "489                  2009.0              Banking   \n",
       "490                  2009.0              Banking   \n",
       "491                  2008.0              Banking   \n",
       "\n",
       "                   Business_domain Development_method  \\\n",
       "487                       Payments        Plan-driven   \n",
       "488                       Payments        Plan-driven   \n",
       "489                Savings & Loans        Plan-driven   \n",
       "490  Client and Account Management        Plan-driven   \n",
       "491                Savings & Loans        Plan-driven   \n",
       "\n",
       "                  Development_class  Functional_size_FP  \\\n",
       "487                 New Development                47.0   \n",
       "488                 New Development               128.0   \n",
       "489   Minor Enhancement (5-25% new)               107.0   \n",
       "490  Major Enhancement (25-75% new)                56.0   \n",
       "491  Major Enhancement (25-75% new)               131.0   \n",
       "\n",
       "     Actual_duration_months  ... Package_of_the_shelf  \\\n",
       "487                    4.90  ...                  0.0   \n",
       "488                    7.48  ...                  0.0   \n",
       "489                    6.55  ...                  0.0   \n",
       "490                    3.58  ...                  0.0   \n",
       "491                    4.38  ...                  0.0   \n",
       "\n",
       "     Package_with_customization  Steady_heartbeat  Fixed_experienced_team  \\\n",
       "487                         0.0               0.0                     0.0   \n",
       "488                         0.0               0.0                     0.0   \n",
       "489                         0.0               0.0                     0.0   \n",
       "490                         0.0               0.0                     0.0   \n",
       "491                         0.0               0.0                     0.0   \n",
       "\n",
       "     Many_team_changes_unexperienced_team  Legacy_application  \\\n",
       "487                                   0.0                 0.0   \n",
       "488                                   0.0                 0.0   \n",
       "489                                   0.0                 0.0   \n",
       "490                                   0.0                 0.0   \n",
       "491                                   0.0                 0.0   \n",
       "\n",
       "     Technology_driven_project  Rules_and_regulations_driven_project  \\\n",
       "487                        0.0                                   0.0   \n",
       "488                        0.0                                   0.0   \n",
       "489                        0.0                                   0.0   \n",
       "490                        0.0                                   0.0   \n",
       "491                        0.0                                   0.0   \n",
       "\n",
       "     Business_driven_project  Pilot_or_proof_of_concept  \n",
       "487                      0.0                        0.0  \n",
       "488                      0.0                        0.0  \n",
       "489                      0.0                        0.0  \n",
       "490                      0.0                        0.0  \n",
       "491                      0.0                        0.0  \n",
       "\n",
       "[5 rows x 30 columns]"
      ]
     },
     "execution_count": 13,
     "metadata": {},
     "output_type": "execute_result"
    }
   ],
   "source": [
    "df.tail()"
   ]
  },
  {
   "cell_type": "code",
   "execution_count": 14,
   "id": "alike-spotlight",
   "metadata": {},
   "outputs": [
    {
     "data": {
      "text/plain": [
       "(492, 30)"
      ]
     },
     "execution_count": 14,
     "metadata": {},
     "output_type": "execute_result"
    }
   ],
   "source": [
    "df.shape"
   ]
  },
  {
   "cell_type": "code",
   "execution_count": 15,
   "id": "ecological-actor",
   "metadata": {},
   "outputs": [],
   "source": [
    "x = pd.read_csv(r'Y:\\PYTHON COMMON SERVER\\NANDINI\\Gaurav\\TK15488\\CODE\\Datasets\\Book1.csv')"
   ]
  },
  {
   "cell_type": "code",
   "execution_count": 16,
   "id": "liked-suggestion",
   "metadata": {},
   "outputs": [
    {
     "data": {
      "text/html": [
       "<div>\n",
       "<style scoped>\n",
       "    .dataframe tbody tr th:only-of-type {\n",
       "        vertical-align: middle;\n",
       "    }\n",
       "\n",
       "    .dataframe tbody tr th {\n",
       "        vertical-align: top;\n",
       "    }\n",
       "\n",
       "    .dataframe thead th {\n",
       "        text-align: right;\n",
       "    }\n",
       "</style>\n",
       "<table border=\"1\" class=\"dataframe\">\n",
       "  <thead>\n",
       "    <tr style=\"text-align: right;\">\n",
       "      <th></th>\n",
       "      <th>Pilot_or_proof_of_concept</th>\n",
       "      <th>Business_driven_project</th>\n",
       "      <th>Rules_and_regulations_driven_project</th>\n",
       "      <th>Technology_driven_project</th>\n",
       "      <th>Legacy_application</th>\n",
       "      <th>Steady_heartbeat</th>\n",
       "      <th>Fixed_experienced_team</th>\n",
       "      <th>Many_team_changes_unexperienced_team</th>\n",
       "      <th>Package_with_customization</th>\n",
       "      <th>Security_related_project</th>\n",
       "      <th>Output</th>\n",
       "    </tr>\n",
       "  </thead>\n",
       "  <tbody>\n",
       "    <tr>\n",
       "      <th>0</th>\n",
       "      <td>0.0</td>\n",
       "      <td>1.0</td>\n",
       "      <td>0.0</td>\n",
       "      <td>0.0</td>\n",
       "      <td>0.0</td>\n",
       "      <td>0.0</td>\n",
       "      <td>0.0</td>\n",
       "      <td>0.0</td>\n",
       "      <td>0.0</td>\n",
       "      <td>0.0</td>\n",
       "      <td>1.0</td>\n",
       "    </tr>\n",
       "    <tr>\n",
       "      <th>1</th>\n",
       "      <td>0.0</td>\n",
       "      <td>1.0</td>\n",
       "      <td>0.0</td>\n",
       "      <td>0.0</td>\n",
       "      <td>0.0</td>\n",
       "      <td>0.0</td>\n",
       "      <td>0.0</td>\n",
       "      <td>0.0</td>\n",
       "      <td>0.0</td>\n",
       "      <td>0.0</td>\n",
       "      <td>1.0</td>\n",
       "    </tr>\n",
       "    <tr>\n",
       "      <th>2</th>\n",
       "      <td>0.0</td>\n",
       "      <td>1.0</td>\n",
       "      <td>0.0</td>\n",
       "      <td>0.0</td>\n",
       "      <td>0.0</td>\n",
       "      <td>0.0</td>\n",
       "      <td>0.0</td>\n",
       "      <td>0.0</td>\n",
       "      <td>0.0</td>\n",
       "      <td>0.0</td>\n",
       "      <td>1.0</td>\n",
       "    </tr>\n",
       "    <tr>\n",
       "      <th>3</th>\n",
       "      <td>0.0</td>\n",
       "      <td>1.0</td>\n",
       "      <td>0.0</td>\n",
       "      <td>0.0</td>\n",
       "      <td>0.0</td>\n",
       "      <td>0.0</td>\n",
       "      <td>0.0</td>\n",
       "      <td>0.0</td>\n",
       "      <td>0.0</td>\n",
       "      <td>0.0</td>\n",
       "      <td>1.0</td>\n",
       "    </tr>\n",
       "    <tr>\n",
       "      <th>4</th>\n",
       "      <td>0.0</td>\n",
       "      <td>1.0</td>\n",
       "      <td>0.0</td>\n",
       "      <td>0.0</td>\n",
       "      <td>0.0</td>\n",
       "      <td>0.0</td>\n",
       "      <td>0.0</td>\n",
       "      <td>0.0</td>\n",
       "      <td>0.0</td>\n",
       "      <td>0.0</td>\n",
       "      <td>0.0</td>\n",
       "    </tr>\n",
       "  </tbody>\n",
       "</table>\n",
       "</div>"
      ],
      "text/plain": [
       "   Pilot_or_proof_of_concept  Business_driven_project  \\\n",
       "0                        0.0                      1.0   \n",
       "1                        0.0                      1.0   \n",
       "2                        0.0                      1.0   \n",
       "3                        0.0                      1.0   \n",
       "4                        0.0                      1.0   \n",
       "\n",
       "   Rules_and_regulations_driven_project  Technology_driven_project  \\\n",
       "0                                   0.0                        0.0   \n",
       "1                                   0.0                        0.0   \n",
       "2                                   0.0                        0.0   \n",
       "3                                   0.0                        0.0   \n",
       "4                                   0.0                        0.0   \n",
       "\n",
       "   Legacy_application  Steady_heartbeat  Fixed_experienced_team  \\\n",
       "0                 0.0               0.0                     0.0   \n",
       "1                 0.0               0.0                     0.0   \n",
       "2                 0.0               0.0                     0.0   \n",
       "3                 0.0               0.0                     0.0   \n",
       "4                 0.0               0.0                     0.0   \n",
       "\n",
       "   Many_team_changes_unexperienced_team  Package_with_customization  \\\n",
       "0                                   0.0                         0.0   \n",
       "1                                   0.0                         0.0   \n",
       "2                                   0.0                         0.0   \n",
       "3                                   0.0                         0.0   \n",
       "4                                   0.0                         0.0   \n",
       "\n",
       "   Security_related_project  Output  \n",
       "0                       0.0     1.0  \n",
       "1                       0.0     1.0  \n",
       "2                       0.0     1.0  \n",
       "3                       0.0     1.0  \n",
       "4                       0.0     0.0  "
      ]
     },
     "execution_count": 16,
     "metadata": {},
     "output_type": "execute_result"
    }
   ],
   "source": [
    "x.head()"
   ]
  },
  {
   "cell_type": "code",
   "execution_count": 17,
   "id": "bored-research",
   "metadata": {},
   "outputs": [
    {
     "data": {
      "text/html": [
       "<div>\n",
       "<style scoped>\n",
       "    .dataframe tbody tr th:only-of-type {\n",
       "        vertical-align: middle;\n",
       "    }\n",
       "\n",
       "    .dataframe tbody tr th {\n",
       "        vertical-align: top;\n",
       "    }\n",
       "\n",
       "    .dataframe thead th {\n",
       "        text-align: right;\n",
       "    }\n",
       "</style>\n",
       "<table border=\"1\" class=\"dataframe\">\n",
       "  <thead>\n",
       "    <tr style=\"text-align: right;\">\n",
       "      <th></th>\n",
       "      <th>Pilot_or_proof_of_concept</th>\n",
       "      <th>Business_driven_project</th>\n",
       "      <th>Rules_and_regulations_driven_project</th>\n",
       "      <th>Technology_driven_project</th>\n",
       "      <th>Legacy_application</th>\n",
       "      <th>Steady_heartbeat</th>\n",
       "      <th>Fixed_experienced_team</th>\n",
       "      <th>Many_team_changes_unexperienced_team</th>\n",
       "      <th>Package_with_customization</th>\n",
       "      <th>Security_related_project</th>\n",
       "      <th>Output</th>\n",
       "    </tr>\n",
       "  </thead>\n",
       "  <tbody>\n",
       "    <tr>\n",
       "      <th>488</th>\n",
       "      <td>0.0</td>\n",
       "      <td>0.0</td>\n",
       "      <td>0.0</td>\n",
       "      <td>0.0</td>\n",
       "      <td>0.0</td>\n",
       "      <td>0.0</td>\n",
       "      <td>0.0</td>\n",
       "      <td>0.0</td>\n",
       "      <td>0.0</td>\n",
       "      <td>0.0</td>\n",
       "      <td>1.0</td>\n",
       "    </tr>\n",
       "    <tr>\n",
       "      <th>489</th>\n",
       "      <td>0.0</td>\n",
       "      <td>0.0</td>\n",
       "      <td>0.0</td>\n",
       "      <td>0.0</td>\n",
       "      <td>0.0</td>\n",
       "      <td>0.0</td>\n",
       "      <td>0.0</td>\n",
       "      <td>0.0</td>\n",
       "      <td>0.0</td>\n",
       "      <td>0.0</td>\n",
       "      <td>1.0</td>\n",
       "    </tr>\n",
       "    <tr>\n",
       "      <th>490</th>\n",
       "      <td>0.0</td>\n",
       "      <td>0.0</td>\n",
       "      <td>0.0</td>\n",
       "      <td>0.0</td>\n",
       "      <td>0.0</td>\n",
       "      <td>0.0</td>\n",
       "      <td>0.0</td>\n",
       "      <td>0.0</td>\n",
       "      <td>0.0</td>\n",
       "      <td>0.0</td>\n",
       "      <td>1.0</td>\n",
       "    </tr>\n",
       "    <tr>\n",
       "      <th>491</th>\n",
       "      <td>0.0</td>\n",
       "      <td>0.0</td>\n",
       "      <td>0.0</td>\n",
       "      <td>0.0</td>\n",
       "      <td>0.0</td>\n",
       "      <td>0.0</td>\n",
       "      <td>0.0</td>\n",
       "      <td>0.0</td>\n",
       "      <td>0.0</td>\n",
       "      <td>0.0</td>\n",
       "      <td>1.0</td>\n",
       "    </tr>\n",
       "    <tr>\n",
       "      <th>492</th>\n",
       "      <td>NaN</td>\n",
       "      <td>NaN</td>\n",
       "      <td>NaN</td>\n",
       "      <td>NaN</td>\n",
       "      <td>NaN</td>\n",
       "      <td>NaN</td>\n",
       "      <td>NaN</td>\n",
       "      <td>NaN</td>\n",
       "      <td>NaN</td>\n",
       "      <td>NaN</td>\n",
       "      <td>NaN</td>\n",
       "    </tr>\n",
       "  </tbody>\n",
       "</table>\n",
       "</div>"
      ],
      "text/plain": [
       "     Pilot_or_proof_of_concept  Business_driven_project  \\\n",
       "488                        0.0                      0.0   \n",
       "489                        0.0                      0.0   \n",
       "490                        0.0                      0.0   \n",
       "491                        0.0                      0.0   \n",
       "492                        NaN                      NaN   \n",
       "\n",
       "     Rules_and_regulations_driven_project  Technology_driven_project  \\\n",
       "488                                   0.0                        0.0   \n",
       "489                                   0.0                        0.0   \n",
       "490                                   0.0                        0.0   \n",
       "491                                   0.0                        0.0   \n",
       "492                                   NaN                        NaN   \n",
       "\n",
       "     Legacy_application  Steady_heartbeat  Fixed_experienced_team  \\\n",
       "488                 0.0               0.0                     0.0   \n",
       "489                 0.0               0.0                     0.0   \n",
       "490                 0.0               0.0                     0.0   \n",
       "491                 0.0               0.0                     0.0   \n",
       "492                 NaN               NaN                     NaN   \n",
       "\n",
       "     Many_team_changes_unexperienced_team  Package_with_customization  \\\n",
       "488                                   0.0                         0.0   \n",
       "489                                   0.0                         0.0   \n",
       "490                                   0.0                         0.0   \n",
       "491                                   0.0                         0.0   \n",
       "492                                   NaN                         NaN   \n",
       "\n",
       "     Security_related_project  Output  \n",
       "488                       0.0     1.0  \n",
       "489                       0.0     1.0  \n",
       "490                       0.0     1.0  \n",
       "491                       0.0     1.0  \n",
       "492                       NaN     NaN  "
      ]
     },
     "execution_count": 17,
     "metadata": {},
     "output_type": "execute_result"
    }
   ],
   "source": [
    "x.tail()"
   ]
  },
  {
   "cell_type": "code",
   "execution_count": 18,
   "id": "executive-accounting",
   "metadata": {},
   "outputs": [
    {
     "data": {
      "text/plain": [
       "Pilot_or_proof_of_concept               1\n",
       "Business_driven_project                 1\n",
       "Rules_and_regulations_driven_project    1\n",
       "Technology_driven_project               1\n",
       "Legacy_application                      1\n",
       "Steady_heartbeat                        1\n",
       "Fixed_experienced_team                  1\n",
       "Many_team_changes_unexperienced_team    1\n",
       "Package_with_customization              1\n",
       "Security_related_project                1\n",
       "Output                                  1\n",
       "dtype: int64"
      ]
     },
     "execution_count": 18,
     "metadata": {},
     "output_type": "execute_result"
    }
   ],
   "source": [
    "x.isnull().sum()"
   ]
  },
  {
   "cell_type": "code",
   "execution_count": 19,
   "id": "protecting-extraction",
   "metadata": {},
   "outputs": [],
   "source": [
    "x.dropna(how = 'any',inplace = True)"
   ]
  },
  {
   "cell_type": "code",
   "execution_count": 20,
   "id": "tracked-letter",
   "metadata": {},
   "outputs": [
    {
     "data": {
      "text/plain": [
       "0"
      ]
     },
     "execution_count": 20,
     "metadata": {},
     "output_type": "execute_result"
    }
   ],
   "source": [
    "x.isnull().any().sum()"
   ]
  },
  {
   "cell_type": "code",
   "execution_count": 21,
   "id": "elementary-effect",
   "metadata": {},
   "outputs": [
    {
     "data": {
      "text/plain": [
       "(492, 11)"
      ]
     },
     "execution_count": 21,
     "metadata": {},
     "output_type": "execute_result"
    }
   ],
   "source": [
    "x.shape"
   ]
  },
  {
   "cell_type": "code",
   "execution_count": 22,
   "id": "unique-directive",
   "metadata": {},
   "outputs": [],
   "source": [
    "y = x.Output"
   ]
  },
  {
   "cell_type": "code",
   "execution_count": 23,
   "id": "animated-simulation",
   "metadata": {},
   "outputs": [
    {
     "data": {
      "text/plain": [
       "0    1.0\n",
       "1    1.0\n",
       "2    1.0\n",
       "3    1.0\n",
       "4    0.0\n",
       "Name: Output, dtype: float64"
      ]
     },
     "execution_count": 23,
     "metadata": {},
     "output_type": "execute_result"
    }
   ],
   "source": [
    "y.head()"
   ]
  },
  {
   "cell_type": "code",
   "execution_count": 24,
   "id": "ready-journey",
   "metadata": {},
   "outputs": [],
   "source": [
    "X = x.iloc[:,:10]"
   ]
  },
  {
   "cell_type": "code",
   "execution_count": 25,
   "id": "surrounded-frequency",
   "metadata": {},
   "outputs": [
    {
     "data": {
      "text/html": [
       "<div>\n",
       "<style scoped>\n",
       "    .dataframe tbody tr th:only-of-type {\n",
       "        vertical-align: middle;\n",
       "    }\n",
       "\n",
       "    .dataframe tbody tr th {\n",
       "        vertical-align: top;\n",
       "    }\n",
       "\n",
       "    .dataframe thead th {\n",
       "        text-align: right;\n",
       "    }\n",
       "</style>\n",
       "<table border=\"1\" class=\"dataframe\">\n",
       "  <thead>\n",
       "    <tr style=\"text-align: right;\">\n",
       "      <th></th>\n",
       "      <th>Pilot_or_proof_of_concept</th>\n",
       "      <th>Business_driven_project</th>\n",
       "      <th>Rules_and_regulations_driven_project</th>\n",
       "      <th>Technology_driven_project</th>\n",
       "      <th>Legacy_application</th>\n",
       "      <th>Steady_heartbeat</th>\n",
       "      <th>Fixed_experienced_team</th>\n",
       "      <th>Many_team_changes_unexperienced_team</th>\n",
       "      <th>Package_with_customization</th>\n",
       "      <th>Security_related_project</th>\n",
       "    </tr>\n",
       "  </thead>\n",
       "  <tbody>\n",
       "    <tr>\n",
       "      <th>0</th>\n",
       "      <td>0.0</td>\n",
       "      <td>1.0</td>\n",
       "      <td>0.0</td>\n",
       "      <td>0.0</td>\n",
       "      <td>0.0</td>\n",
       "      <td>0.0</td>\n",
       "      <td>0.0</td>\n",
       "      <td>0.0</td>\n",
       "      <td>0.0</td>\n",
       "      <td>0.0</td>\n",
       "    </tr>\n",
       "    <tr>\n",
       "      <th>1</th>\n",
       "      <td>0.0</td>\n",
       "      <td>1.0</td>\n",
       "      <td>0.0</td>\n",
       "      <td>0.0</td>\n",
       "      <td>0.0</td>\n",
       "      <td>0.0</td>\n",
       "      <td>0.0</td>\n",
       "      <td>0.0</td>\n",
       "      <td>0.0</td>\n",
       "      <td>0.0</td>\n",
       "    </tr>\n",
       "    <tr>\n",
       "      <th>2</th>\n",
       "      <td>0.0</td>\n",
       "      <td>1.0</td>\n",
       "      <td>0.0</td>\n",
       "      <td>0.0</td>\n",
       "      <td>0.0</td>\n",
       "      <td>0.0</td>\n",
       "      <td>0.0</td>\n",
       "      <td>0.0</td>\n",
       "      <td>0.0</td>\n",
       "      <td>0.0</td>\n",
       "    </tr>\n",
       "    <tr>\n",
       "      <th>3</th>\n",
       "      <td>0.0</td>\n",
       "      <td>1.0</td>\n",
       "      <td>0.0</td>\n",
       "      <td>0.0</td>\n",
       "      <td>0.0</td>\n",
       "      <td>0.0</td>\n",
       "      <td>0.0</td>\n",
       "      <td>0.0</td>\n",
       "      <td>0.0</td>\n",
       "      <td>0.0</td>\n",
       "    </tr>\n",
       "    <tr>\n",
       "      <th>4</th>\n",
       "      <td>0.0</td>\n",
       "      <td>1.0</td>\n",
       "      <td>0.0</td>\n",
       "      <td>0.0</td>\n",
       "      <td>0.0</td>\n",
       "      <td>0.0</td>\n",
       "      <td>0.0</td>\n",
       "      <td>0.0</td>\n",
       "      <td>0.0</td>\n",
       "      <td>0.0</td>\n",
       "    </tr>\n",
       "  </tbody>\n",
       "</table>\n",
       "</div>"
      ],
      "text/plain": [
       "   Pilot_or_proof_of_concept  Business_driven_project  \\\n",
       "0                        0.0                      1.0   \n",
       "1                        0.0                      1.0   \n",
       "2                        0.0                      1.0   \n",
       "3                        0.0                      1.0   \n",
       "4                        0.0                      1.0   \n",
       "\n",
       "   Rules_and_regulations_driven_project  Technology_driven_project  \\\n",
       "0                                   0.0                        0.0   \n",
       "1                                   0.0                        0.0   \n",
       "2                                   0.0                        0.0   \n",
       "3                                   0.0                        0.0   \n",
       "4                                   0.0                        0.0   \n",
       "\n",
       "   Legacy_application  Steady_heartbeat  Fixed_experienced_team  \\\n",
       "0                 0.0               0.0                     0.0   \n",
       "1                 0.0               0.0                     0.0   \n",
       "2                 0.0               0.0                     0.0   \n",
       "3                 0.0               0.0                     0.0   \n",
       "4                 0.0               0.0                     0.0   \n",
       "\n",
       "   Many_team_changes_unexperienced_team  Package_with_customization  \\\n",
       "0                                   0.0                         0.0   \n",
       "1                                   0.0                         0.0   \n",
       "2                                   0.0                         0.0   \n",
       "3                                   0.0                         0.0   \n",
       "4                                   0.0                         0.0   \n",
       "\n",
       "   Security_related_project  \n",
       "0                       0.0  \n",
       "1                       0.0  \n",
       "2                       0.0  \n",
       "3                       0.0  \n",
       "4                       0.0  "
      ]
     },
     "execution_count": 25,
     "metadata": {},
     "output_type": "execute_result"
    }
   ],
   "source": [
    "X.head()"
   ]
  },
  {
   "cell_type": "code",
   "execution_count": 26,
   "id": "empirical-paragraph",
   "metadata": {},
   "outputs": [
    {
     "data": {
      "text/plain": [
       "<AxesSubplot:xlabel='Security_related_project', ylabel='count'>"
      ]
     },
     "execution_count": 26,
     "metadata": {},
     "output_type": "execute_result"
    },
    {
     "data": {
      "image/png": "[encoded data removed]",
      "text/plain": [
       "<Figure size 432x288 with 1 Axes>"
      ]
     },
     "metadata": {
      "needs_background": "light"
     },
     "output_type": "display_data"
    }
   ],
   "source": [
    "sns.countplot(x = X.Security_related_project)"
   ]
  },
  {
   "cell_type": "code",
   "execution_count": 27,
   "id": "surgical-investigator",
   "metadata": {},
   "outputs": [
    {
     "data": {
      "text/plain": [
       "<AxesSubplot:xlabel='Technology_driven_project', ylabel='count'>"
      ]
     },
     "execution_count": 27,
     "metadata": {},
     "output_type": "execute_result"
    },
    {
     "data": {
      "image/png": "[encoded data removed]",
      "text/plain": [
       "<Figure size 432x288 with 1 Axes>"
      ]
     },
     "metadata": {
      "needs_background": "light"
     },
     "output_type": "display_data"
    }
   ],
   "source": [
    "sns.countplot(x = X.Technology_driven_project)"
   ]
  },
  {
   "cell_type": "code",
   "execution_count": 28,
   "id": "particular-forty",
   "metadata": {},
   "outputs": [
    {
     "data": {
      "text/plain": [
       "<AxesSubplot:xlabel='Business_driven_project', ylabel='count'>"
      ]
     },
     "execution_count": 28,
     "metadata": {},
     "output_type": "execute_result"
    },
    {
     "data": {
      "image/png": "[encoded data removed]",
      "text/plain": [
       "<Figure size 432x288 with 1 Axes>"
      ]
     },
     "metadata": {
      "needs_background": "light"
     },
     "output_type": "display_data"
    }
   ],
   "source": [
    "sns.countplot(x = X.Business_driven_project)"
   ]
  },
  {
   "cell_type": "code",
   "execution_count": 29,
   "id": "incident-essence",
   "metadata": {},
   "outputs": [],
   "source": [
    "x_train,x_test,y_train,y_test = train_test_split(X,y,test_size = 0.3,random_state = 10)"
   ]
  },
  {
   "cell_type": "code",
   "execution_count": 30,
   "id": "vanilla-perfume",
   "metadata": {},
   "outputs": [
    {
     "data": {
      "text/plain": [
       "(148, 10)"
      ]
     },
     "execution_count": 30,
     "metadata": {},
     "output_type": "execute_result"
    }
   ],
   "source": [
    "x_test.shape"
   ]
  },
  {
   "cell_type": "code",
   "execution_count": 31,
   "id": "biblical-restaurant",
   "metadata": {},
   "outputs": [
    {
     "data": {
      "text/plain": [
       "(344,)"
      ]
     },
     "execution_count": 31,
     "metadata": {},
     "output_type": "execute_result"
    }
   ],
   "source": [
    "y_train.shape"
   ]
  },
  {
   "cell_type": "code",
   "execution_count": 32,
   "id": "compound-locator",
   "metadata": {},
   "outputs": [],
   "source": [
    "from sklearn.metrics import confusion_matrix,accuracy_score,precision_score,recall_score,classification_report\n",
    "# confusion_matrix(y_test,model_1_pred)"
   ]
  },
  {
   "cell_type": "code",
   "execution_count": 33,
   "id": "nuclear-excess",
   "metadata": {},
   "outputs": [],
   "source": [
    "model_1 = RandomForestClassifier(max_depth = 1,n_estimators = 1)"
   ]
  },
  {
   "cell_type": "code",
   "execution_count": 34,
   "id": "chinese-lucas",
   "metadata": {},
   "outputs": [
    {
     "data": {
      "text/plain": [
       "RandomForestClassifier(max_depth=1, n_estimators=1)"
      ]
     },
     "execution_count": 34,
     "metadata": {},
     "output_type": "execute_result"
    }
   ],
   "source": [
    "model_1.fit(x_train,y_train)"
   ]
  },
  {
   "cell_type": "code",
   "execution_count": 35,
   "id": "handled-input",
   "metadata": {},
   "outputs": [],
   "source": [
    "model_1_pred = model_1.predict(x_test)"
   ]
  },
  {
   "cell_type": "code",
   "execution_count": 36,
   "id": "warming-machinery",
   "metadata": {},
   "outputs": [
    {
     "data": {
      "text/plain": [
       "0.9662162162162162"
      ]
     },
     "execution_count": 36,
     "metadata": {},
     "output_type": "execute_result"
    }
   ],
   "source": [
    "acc1 = accuracy_score(model_1_pred, y_test)\n",
    "acc1"
   ]
  },
  {
   "cell_type": "code",
   "execution_count": 37,
   "id": "ancient-correction",
   "metadata": {},
   "outputs": [
    {
     "data": {
      "text/plain": [
       "array([[  5,   3],\n",
       "       [  2, 138]], dtype=int64)"
      ]
     },
     "execution_count": 37,
     "metadata": {},
     "output_type": "execute_result"
    }
   ],
   "source": [
    "confusion_matrix(y_test,model_1_pred)"
   ]
  },
  {
   "cell_type": "code",
   "execution_count": 38,
   "id": "elect-pride",
   "metadata": {},
   "outputs": [],
   "source": [
    "from xgboost import XGBClassifier"
   ]
  },
  {
   "cell_type": "code",
   "execution_count": 39,
   "id": "better-adjustment",
   "metadata": {},
   "outputs": [
    {
     "name": "stdout",
     "output_type": "stream",
     "text": [
      "[10:12:46] WARNING: C:/Users/Administrator/workspace/xgboost-win64_release_1.4.0/src/learner.cc:1095: Starting in XGBoost 1.3.0, the default evaluation metric used with the objective 'binary:logistic' was changed from 'error' to 'logloss'. Explicitly set eval_metric if you'd like to restore the old behavior.\n"
     ]
    },
    {
     "name": "stderr",
     "output_type": "stream",
     "text": [
      "c:\\Program Files\\Python36\\lib\\site-packages\\xgboost\\sklearn.py:1146: UserWarning: The use of label encoder in XGBClassifier is deprecated and will be removed in a future release. To remove this warning, do the following: 1) Pass option use_label_encoder=False when constructing XGBClassifier object; and 2) Encode your labels (y) as integers starting with 0, i.e. 0, 1, 2, ..., [num_class - 1].\n",
      "  warnings.warn(label_encoder_deprecation_msg, UserWarning)\n"
     ]
    },
    {
     "data": {
      "text/plain": [
       "XGBClassifier(base_score=0.5, booster='gbtree', colsample_bylevel=1,\n",
       "              colsample_bynode=1, colsample_bytree=1, gamma=0, gpu_id=-1,\n",
       "              importance_type='gain', interaction_constraints='',\n",
       "              learning_rate=0.300000012, max_delta_step=0, max_depth=6,\n",
       "              min_child_weight=1, missing=nan, monotone_constraints='()',\n",
       "              n_estimators=100, n_jobs=4, num_parallel_tree=1, random_state=0,\n",
       "              reg_alpha=0, reg_lambda=1, scale_pos_weight=1, subsample=1,\n",
       "              tree_method='exact', validate_parameters=1, verbosity=None)"
      ]
     },
     "execution_count": 39,
     "metadata": {},
     "output_type": "execute_result"
    }
   ],
   "source": [
    "model_2 = xgb.XGBClassifier()\n",
    "model_2.fit(x_train,y_train)"
   ]
  },
  {
   "cell_type": "code",
   "execution_count": 40,
   "id": "fresh-plenty",
   "metadata": {},
   "outputs": [],
   "source": [
    "model_2_pred = model_2.predict(x_test)\n"
   ]
  },
  {
   "cell_type": "code",
   "execution_count": 41,
   "id": "4f654219",
   "metadata": {},
   "outputs": [
    {
     "data": {
      "text/plain": [
       "0.972972972972973"
      ]
     },
     "execution_count": 41,
     "metadata": {},
     "output_type": "execute_result"
    }
   ],
   "source": [
    "acc2 = accuracy_score(model_2_pred, y_test)\n",
    "acc2"
   ]
  },
  {
   "cell_type": "code",
   "execution_count": 42,
   "id": "cleared-horse",
   "metadata": {},
   "outputs": [
    {
     "data": {
      "text/plain": [
       "array([[  5,   3],\n",
       "       [  1, 139]], dtype=int64)"
      ]
     },
     "execution_count": 42,
     "metadata": {},
     "output_type": "execute_result"
    }
   ],
   "source": [
    "confusion_matrix(y_test,model_2_pred)"
   ]
  },
  {
   "cell_type": "code",
   "execution_count": 43,
   "id": "geological-hearts",
   "metadata": {},
   "outputs": [],
   "source": [
    "from sklearn.linear_model import LogisticRegression"
   ]
  },
  {
   "cell_type": "code",
   "execution_count": 44,
   "id": "dated-shopper",
   "metadata": {},
   "outputs": [],
   "source": [
    "model_3 = LogisticRegression(solver='liblinear')"
   ]
  },
  {
   "cell_type": "code",
   "execution_count": 45,
   "id": "imposed-assignment",
   "metadata": {},
   "outputs": [
    {
     "data": {
      "text/plain": [
       "LogisticRegression(solver='liblinear')"
      ]
     },
     "execution_count": 45,
     "metadata": {},
     "output_type": "execute_result"
    }
   ],
   "source": [
    "model_3.fit(x_train,y_train)"
   ]
  },
  {
   "cell_type": "code",
   "execution_count": 46,
   "id": "patent-sunset",
   "metadata": {},
   "outputs": [],
   "source": [
    "model_3_pred = model_3.predict(x_test)"
   ]
  },
  {
   "cell_type": "code",
   "execution_count": 47,
   "id": "treated-proof",
   "metadata": {},
   "outputs": [
    {
     "data": {
      "text/plain": [
       "0.972972972972973"
      ]
     },
     "execution_count": 47,
     "metadata": {},
     "output_type": "execute_result"
    }
   ],
   "source": [
    "acc3 = accuracy_score(model_3_pred, y_test)\n",
    "acc3"
   ]
  },
  {
   "cell_type": "code",
   "execution_count": 48,
   "id": "cooked-crisis",
   "metadata": {},
   "outputs": [
    {
     "data": {
      "text/plain": [
       "array([[  5,   3],\n",
       "       [  1, 139]], dtype=int64)"
      ]
     },
     "execution_count": 48,
     "metadata": {},
     "output_type": "execute_result"
    }
   ],
   "source": [
    "confusion_matrix(y_test,model_3_pred)"
   ]
  },
  {
   "cell_type": "code",
   "execution_count": 49,
   "id": "04050cad",
   "metadata": {},
   "outputs": [
    {
     "data": {
      "text/plain": [
       "0.9797297297297297"
      ]
     },
     "execution_count": 49,
     "metadata": {},
     "output_type": "execute_result"
    }
   ],
   "source": [
    "from sklearn.neighbors import KNeighborsClassifier\n",
    "\n",
    "model_4 = KNeighborsClassifier(n_neighbors=4, metric='minkowski')\n",
    "\n",
    "model_4.fit(x_train, y_train)\n",
    "\n",
    "model_4_pred = model_4.predict(x_test)\n",
    "\n",
    "from sklearn.metrics import accuracy_score\n",
    "acc4 = accuracy_score(model_4_pred, y_test)\n",
    "\n",
    "acc4\n"
   ]
  },
  {
   "cell_type": "code",
   "execution_count": 50,
   "id": "a855ed12",
   "metadata": {},
   "outputs": [
    {
     "name": "stdout",
     "output_type": "stream",
     "text": [
      "[[  6   2]\n",
      " [  1 139]]\n"
     ]
    }
   ],
   "source": [
    "print(confusion_matrix(y_test,model_4_pred))"
   ]
  },
  {
   "cell_type": "code",
   "execution_count": 51,
   "id": "approximate-deficit",
   "metadata": {},
   "outputs": [],
   "source": [
    "accuracy_df = pd.DataFrame({'Model':['Random Forest','xgboost','Logistic Regression', 'KNN'],\n",
    "                            'Accuracy' : [acc1*100, acc2*100, acc3*100, acc4*100]\n",
    "                           })"
   ]
  },
  {
   "cell_type": "code",
   "execution_count": 52,
   "id": "amino-wiring",
   "metadata": {},
   "outputs": [
    {
     "data": {
      "text/html": [
       "<div>\n",
       "<style scoped>\n",
       "    .dataframe tbody tr th:only-of-type {\n",
       "        vertical-align: middle;\n",
       "    }\n",
       "\n",
       "    .dataframe tbody tr th {\n",
       "        vertical-align: top;\n",
       "    }\n",
       "\n",
       "    .dataframe thead th {\n",
       "        text-align: right;\n",
       "    }\n",
       "</style>\n",
       "<table border=\"1\" class=\"dataframe\">\n",
       "  <thead>\n",
       "    <tr style=\"text-align: right;\">\n",
       "      <th></th>\n",
       "      <th>Model</th>\n",
       "      <th>Accuracy</th>\n",
       "    </tr>\n",
       "  </thead>\n",
       "  <tbody>\n",
       "    <tr>\n",
       "      <th>0</th>\n",
       "      <td>Random Forest</td>\n",
       "      <td>96.621622</td>\n",
       "    </tr>\n",
       "    <tr>\n",
       "      <th>1</th>\n",
       "      <td>xgboost</td>\n",
       "      <td>97.297297</td>\n",
       "    </tr>\n",
       "    <tr>\n",
       "      <th>2</th>\n",
       "      <td>Logistic Regression</td>\n",
       "      <td>97.297297</td>\n",
       "    </tr>\n",
       "    <tr>\n",
       "      <th>3</th>\n",
       "      <td>KNN</td>\n",
       "      <td>97.972973</td>\n",
       "    </tr>\n",
       "  </tbody>\n",
       "</table>\n",
       "</div>"
      ],
      "text/plain": [
       "                 Model   Accuracy\n",
       "0        Random Forest  96.621622\n",
       "1              xgboost  97.297297\n",
       "2  Logistic Regression  97.297297\n",
       "3                  KNN  97.972973"
      ]
     },
     "execution_count": 52,
     "metadata": {},
     "output_type": "execute_result"
    }
   ],
   "source": [
    "accuracy_df"
   ]
  },
  {
   "cell_type": "code",
   "execution_count": 53,
   "id": "respiratory-flash",
   "metadata": {},
   "outputs": [
    {
     "data": {
      "image/png": "[encoded data removed]",
      "text/plain": [
       "<Figure size 432x288 with 1 Axes>"
      ]
     },
     "metadata": {
      "needs_background": "light"
     },
     "output_type": "display_data"
    },
    {
     "data": {
      "image/png": "[encoded data removed]",
      "text/plain": [
       "<Figure size 1080x432 with 1 Axes>"
      ]
     },
     "metadata": {
      "needs_background": "light"
     },
     "output_type": "display_data"
    }
   ],
   "source": [
    "sns.barplot(x =accuracy_df.Model,y = accuracy_df.Accuracy,data = accuracy_df)\n",
    "plt.figure(figsize=(15,6))\n",
    "plt.xticks(rotation = 'vertical')\n",
    "plt.show()"
   ]
  },
  {
   "cell_type": "markdown",
   "id": "interested-voluntary",
   "metadata": {},
   "source": [
    "### Extension "
   ]
  },
  {
   "cell_type": "code",
   "execution_count": 54,
   "id": "signal-organization",
   "metadata": {},
   "outputs": [
    {
     "data": {
      "text/plain": [
       "1.0    466\n",
       "0.0     26\n",
       "Name: Output, dtype: int64"
      ]
     },
     "execution_count": 54,
     "metadata": {},
     "output_type": "execute_result"
    }
   ],
   "source": [
    "x.Output.value_counts()"
   ]
  },
  {
   "cell_type": "code",
   "execution_count": 55,
   "id": "packed-europe",
   "metadata": {},
   "outputs": [
    {
     "data": {
      "text/plain": [
       "Pilot_or_proof_of_concept               0\n",
       "Business_driven_project                 0\n",
       "Rules_and_regulations_driven_project    0\n",
       "Technology_driven_project               0\n",
       "Legacy_application                      0\n",
       "Steady_heartbeat                        0\n",
       "Fixed_experienced_team                  0\n",
       "Many_team_changes_unexperienced_team    0\n",
       "Package_with_customization              0\n",
       "Security_related_project                0\n",
       "dtype: int64"
      ]
     },
     "execution_count": 55,
     "metadata": {},
     "output_type": "execute_result"
    }
   ],
   "source": [
    "X.isnull().sum()"
   ]
  },
  {
   "cell_type": "code",
   "execution_count": 56,
   "id": "anonymous-heater",
   "metadata": {},
   "outputs": [
    {
     "data": {
      "text/plain": [
       "(492, 10)"
      ]
     },
     "execution_count": 56,
     "metadata": {},
     "output_type": "execute_result"
    }
   ],
   "source": [
    "X.shape"
   ]
  },
  {
   "cell_type": "code",
   "execution_count": 57,
   "id": "sapphire-lender",
   "metadata": {},
   "outputs": [
    {
     "data": {
      "text/plain": [
       "(492,)"
      ]
     },
     "execution_count": 57,
     "metadata": {},
     "output_type": "execute_result"
    }
   ],
   "source": [
    "y.shape"
   ]
  },
  {
   "cell_type": "markdown",
   "id": "wanted-denial",
   "metadata": {},
   "source": [
    "### Class Imbalance treatment"
   ]
  },
  {
   "cell_type": "code",
   "execution_count": 58,
   "id": "oriented-armor",
   "metadata": {},
   "outputs": [],
   "source": [
    "from imblearn.over_sampling import SMOTE"
   ]
  },
  {
   "cell_type": "code",
   "execution_count": 59,
   "id": "considered-caution",
   "metadata": {},
   "outputs": [],
   "source": [
    "sm = SMOTE()"
   ]
  },
  {
   "cell_type": "code",
   "execution_count": 60,
   "id": "meaningful-consumer",
   "metadata": {},
   "outputs": [],
   "source": [
    "x_r,y_r = sm.fit_resample(X,y)"
   ]
  },
  {
   "cell_type": "code",
   "execution_count": 61,
   "id": "exciting-chance",
   "metadata": {},
   "outputs": [
    {
     "name": "stdout",
     "output_type": "stream",
     "text": [
      "(932, 10) (932,)\n"
     ]
    }
   ],
   "source": [
    "print(x_r.shape,y_r.shape)"
   ]
  },
  {
   "cell_type": "code",
   "execution_count": 62,
   "id": "endless-europe",
   "metadata": {},
   "outputs": [
    {
     "data": {
      "text/plain": [
       "0.0    466\n",
       "1.0    466\n",
       "Name: Output, dtype: int64"
      ]
     },
     "execution_count": 62,
     "metadata": {},
     "output_type": "execute_result"
    }
   ],
   "source": [
    "y_r.value_counts()"
   ]
  },
  {
   "cell_type": "markdown",
   "id": "limited-crawford",
   "metadata": {},
   "source": [
    "### Training and testing data after treating class imbalance"
   ]
  },
  {
   "cell_type": "code",
   "execution_count": 63,
   "id": "nasty-sensitivity",
   "metadata": {},
   "outputs": [],
   "source": [
    "x_train1,x_test1,y_train1,y_test1 = train_test_split(x_r,y_r,test_size = 0.3,random_state = 10)"
   ]
  },
  {
   "cell_type": "code",
   "execution_count": 64,
   "id": "greatest-consent",
   "metadata": {},
   "outputs": [
    {
     "data": {
      "text/plain": [
       "(652, 10)"
      ]
     },
     "execution_count": 64,
     "metadata": {},
     "output_type": "execute_result"
    }
   ],
   "source": [
    "x_train1.shape"
   ]
  },
  {
   "cell_type": "code",
   "execution_count": 65,
   "id": "auburn-pollution",
   "metadata": {},
   "outputs": [
    {
     "data": {
      "text/plain": [
       "(280,)"
      ]
     },
     "execution_count": 65,
     "metadata": {},
     "output_type": "execute_result"
    }
   ],
   "source": [
    "y_test1.shape"
   ]
  },
  {
   "cell_type": "code",
   "execution_count": 77,
   "id": "4e4dd680",
   "metadata": {},
   "outputs": [],
   "source": [
    "model4 =KNeighborsClassifier(n_neighbors=4, metric='minkowski')\n",
    "\n",
    "model4.fit(x_train1, y_train1)\n",
    "\n",
    "pred4 = model4.predict(x_test1)\n"
   ]
  },
  {
   "cell_type": "code",
   "execution_count": 78,
   "id": "f8dd9da9",
   "metadata": {},
   "outputs": [],
   "source": [
    "model1 =RandomForestClassifier()\n",
    "\n",
    "model1.fit(x_train1, y_train1)\n",
    "\n",
    "pred1 = model1.predict(x_test1)"
   ]
  },
  {
   "cell_type": "code",
   "execution_count": 79,
   "id": "5ecb6c1d",
   "metadata": {},
   "outputs": [
    {
     "name": "stdout",
     "output_type": "stream",
     "text": [
      "[10:21:13] WARNING: C:/Users/Administrator/workspace/xgboost-win64_release_1.4.0/src/learner.cc:1095: Starting in XGBoost 1.3.0, the default evaluation metric used with the objective 'binary:logistic' was changed from 'error' to 'logloss'. Explicitly set eval_metric if you'd like to restore the old behavior.\n"
     ]
    },
    {
     "name": "stderr",
     "output_type": "stream",
     "text": [
      "c:\\Program Files\\Python36\\lib\\site-packages\\xgboost\\sklearn.py:1146: UserWarning: The use of label encoder in XGBClassifier is deprecated and will be removed in a future release. To remove this warning, do the following: 1) Pass option use_label_encoder=False when constructing XGBClassifier object; and 2) Encode your labels (y) as integers starting with 0, i.e. 0, 1, 2, ..., [num_class - 1].\n",
      "  warnings.warn(label_encoder_deprecation_msg, UserWarning)\n"
     ]
    }
   ],
   "source": [
    "model2 =XGBClassifier()\n",
    "\n",
    "model2.fit(x_train1, y_train1)\n",
    "\n",
    "pred2 = model2.predict(x_test1)"
   ]
  },
  {
   "cell_type": "code",
   "execution_count": 80,
   "id": "bc428e22",
   "metadata": {},
   "outputs": [],
   "source": [
    "model3 =LogisticRegression()\n",
    "\n",
    "model3.fit(x_train1, y_train1)\n",
    "\n",
    "pred3 = model3.predict(x_test1)"
   ]
  },
  {
   "cell_type": "markdown",
   "id": "posted-blackjack",
   "metadata": {},
   "source": [
    "### Comparing all algorithms classification reports"
   ]
  },
  {
   "cell_type": "markdown",
   "id": "documentary-control",
   "metadata": {},
   "source": [
    "## Random Forest\n"
   ]
  },
  {
   "cell_type": "code",
   "execution_count": 81,
   "id": "toxic-junction",
   "metadata": {},
   "outputs": [
    {
     "name": "stdout",
     "output_type": "stream",
     "text": [
      "              precision    recall  f1-score   support\n",
      "\n",
      "         0.0       1.00      0.93      0.97       134\n",
      "         1.0       0.94      1.00      0.97       146\n",
      "\n",
      "    accuracy                           0.97       280\n",
      "   macro avg       0.97      0.97      0.97       280\n",
      "weighted avg       0.97      0.97      0.97       280\n",
      "\n"
     ]
    }
   ],
   "source": [
    "print(classification_report(y_test1,pred1))"
   ]
  },
  {
   "cell_type": "markdown",
   "id": "three-lying",
   "metadata": {},
   "source": [
    "### XGBoost"
   ]
  },
  {
   "cell_type": "code",
   "execution_count": 82,
   "id": "mineral-bolivia",
   "metadata": {},
   "outputs": [
    {
     "name": "stdout",
     "output_type": "stream",
     "text": [
      "              precision    recall  f1-score   support\n",
      "\n",
      "         0.0       1.00      0.93      0.97       134\n",
      "         1.0       0.94      1.00      0.97       146\n",
      "\n",
      "    accuracy                           0.97       280\n",
      "   macro avg       0.97      0.97      0.97       280\n",
      "weighted avg       0.97      0.97      0.97       280\n",
      "\n"
     ]
    }
   ],
   "source": [
    "print(classification_report(y_test1,pred2))"
   ]
  },
  {
   "cell_type": "markdown",
   "id": "individual-murray",
   "metadata": {},
   "source": [
    "### Logistic Regression"
   ]
  },
  {
   "cell_type": "code",
   "execution_count": 85,
   "id": "alpine-lottery",
   "metadata": {},
   "outputs": [
    {
     "name": "stdout",
     "output_type": "stream",
     "text": [
      "              precision    recall  f1-score   support\n",
      "\n",
      "         0.0       0.95      0.73      0.83       134\n",
      "         1.0       0.80      0.97      0.87       146\n",
      "\n",
      "    accuracy                           0.85       280\n",
      "   macro avg       0.87      0.85      0.85       280\n",
      "weighted avg       0.87      0.85      0.85       280\n",
      "\n"
     ]
    }
   ],
   "source": [
    "print(classification_report(y_test1,pred3))"
   ]
  },
  {
   "cell_type": "markdown",
   "id": "cross-spanking",
   "metadata": {},
   "source": [
    "### KNN"
   ]
  },
  {
   "cell_type": "code",
   "execution_count": 86,
   "id": "embedded-effect",
   "metadata": {},
   "outputs": [
    {
     "name": "stdout",
     "output_type": "stream",
     "text": [
      "              precision    recall  f1-score   support\n",
      "\n",
      "         0.0       0.99      0.93      0.96       134\n",
      "         1.0       0.94      0.99      0.96       146\n",
      "\n",
      "    accuracy                           0.96       280\n",
      "   macro avg       0.96      0.96      0.96       280\n",
      "weighted avg       0.96      0.96      0.96       280\n",
      "\n"
     ]
    }
   ],
   "source": [
    "print(classification_report(y_test1,pred4))"
   ]
  },
  {
   "cell_type": "code",
   "execution_count": null,
   "id": "structured-reggae",
   "metadata": {},
   "outputs": [],
   "source": []
  }
 ],
 "metadata": {
  "kernelspec": {
   "display_name": "Python 3.6.8 64-bit",
   "language": "python",
   "name": "python3"
  },
  "language_info": {
   "codemirror_mode": {
    "name": "ipython",
    "version": 3
   },
   "file_extension": ".py",
   "mimetype": "text/x-python",
   "name": "python",
   "nbconvert_exporter": "python",
   "pygments_lexer": "ipython3",
   "version": "3.6.8"
  },
  "vscode": {
   "interpreter": {
    "hash": "f4e9cda46bb2d9d7fe6ecdff0f8336a934348bf06cb492f2f42f60739b3403b4"
   }
  }
 },
 "nbformat": 4,
 "nbformat_minor": 5
}
